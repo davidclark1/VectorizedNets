{
 "cells": [
  {
   "cell_type": "code",
   "execution_count": 2,
   "metadata": {},
   "outputs": [
    {
     "data": {
      "text/plain": [
       "<module 'vnn2' from '/home/davidclark/Projects/VectorizedNets/vnn2.py'>"
      ]
     },
     "execution_count": 2,
     "metadata": {},
     "output_type": "execute_result"
    }
   ],
   "source": [
    "import numpy as np\n",
    "import torch\n",
    "import torch.nn as nn\n",
    "import torch.nn.functional as F\n",
    "import matplotlib.pyplot as plt\n",
    "from imp import reload\n",
    "import vnn2\n",
    "reload(vnn2)"
   ]
  },
  {
   "cell_type": "code",
   "execution_count": 85,
   "metadata": {},
   "outputs": [
    {
     "data": {
      "text/plain": [
       "4096"
      ]
     },
     "execution_count": 85,
     "metadata": {},
     "output_type": "execute_result"
    }
   ],
   "source": [
    "64*8*8"
   ]
  },
  {
   "cell_type": "code",
   "execution_count": 131,
   "metadata": {},
   "outputs": [],
   "source": [
    "reload(vnn2)\n",
    "model = nn.Sequential(\n",
    "    vnn2.Linear(10, 784, 100),\n",
    "    vnn2.tReLU(10, 100),\n",
    "    vnn2.Linear(10, 100, 50),\n",
    "    vnn2.tReLU(10, 50),\n",
    "    vnn2.Linear(10, 50, 1)\n",
    ")\n",
    "\n"
   ]
  },
  {
   "cell_type": "code",
   "execution_count": 252,
   "metadata": {},
   "outputs": [],
   "source": [
    "reload(vnn2)\n",
    "model = nn.Sequential(\n",
    "    vnn2.Conv2d(10, 3, 64, 2, stride=2, padding=0),\n",
    "    vnn2.ctReLU(10, 64, 8, 8),\n",
    "    vnn2.AvgPool2d(2),\n",
    "    vnn2.Flatten(),\n",
    "    vnn2.Linear(10, 1024, 150),\n",
    "    vnn2.tReLU(10, 150),\n",
    "    vnn2.Linear(10, 150, 100),\n",
    "    vnn2.tReLU(10, 100),\n",
    "    vnn2.Linear(10, 100, 1)\n",
    ")\n",
    "\n"
   ]
  },
  {
   "cell_type": "code",
   "execution_count": null,
   "metadata": {},
   "outputs": [],
   "source": []
  },
  {
   "cell_type": "code",
   "execution_count": 253,
   "metadata": {},
   "outputs": [],
   "source": [
    "x = torch.randn(128, 10, 3, 16, 16)\n",
    "#output_error = torch.randn(128, 10)\n",
    "labels = torch.randint(0, 10, (128,))\n",
    "targets = torch.eye(10)[labels]"
   ]
  },
  {
   "cell_type": "code",
   "execution_count": 254,
   "metadata": {},
   "outputs": [],
   "source": [
    "y = model(x)[..., 0]\n",
    "p = F.softmax(y, dim=1)\n",
    "y.shape, p.shape\n",
    "output_error = p - targets"
   ]
  },
  {
   "cell_type": "code",
   "execution_count": 255,
   "metadata": {},
   "outputs": [
    {
     "name": "stdout",
     "output_type": "stream",
     "text": [
      "8 Linear() torch.Size([128, 1])\n",
      "7 tReLU() torch.Size([128, 100])\n",
      "6 Linear() torch.Size([128, 100])\n",
      "5 tReLU() torch.Size([128, 150])\n",
      "4 Linear() torch.Size([128, 150])\n",
      "3 Flatten() torch.Size([128, 1024])\n",
      "2 AvgPool2d(\n",
      "  (pool): AvgPool2d(kernel_size=2, stride=2, padding=0)\n",
      ") torch.Size([128, 64, 4, 4])\n",
      "1 ctReLU() torch.Size([128, 64, 8, 8])\n",
      "0 Conv2d() torch.Size([128, 64, 8, 8])\n"
     ]
    }
   ],
   "source": [
    "g = torch.ones(128, 1)\n",
    "for i in list(range(len(model)))[::-1]:\n",
    "    layer = model[i]\n",
    "    print(i, layer, g.shape)\n",
    "    g = layer.custom_backward(g, output_error)\n"
   ]
  },
  {
   "cell_type": "code",
   "execution_count": 256,
   "metadata": {},
   "outputs": [],
   "source": [
    "grads_1 = list(p.grad for (name, p) in model.named_parameters() if name[-2:] != \".t\")\n"
   ]
  },
  {
   "cell_type": "code",
   "execution_count": 257,
   "metadata": {},
   "outputs": [],
   "source": [
    "for (name, p) in model.named_parameters():\n",
    "    if name[-2:] != \".t\":\n",
    "        p.grad = None\n",
    "        p.requires_grad = True\n",
    "        \n",
    "grads_2 = list(p.grad for (name, p) in model.named_parameters() if name[-2:] != \".t\")\n",
    "\n",
    "\n",
    "loss_fn = torch.nn.CrossEntropyLoss(reduction=\"mean\")\n",
    "loss = loss_fn(model(x)[..., 0], labels)\n",
    "loss.backward()\n",
    "\n",
    "grads_3 = list(p.grad for (name, p) in model.named_parameters() if name[-2:] != \".t\")\n"
   ]
  },
  {
   "cell_type": "code",
   "execution_count": 259,
   "metadata": {},
   "outputs": [
    {
     "name": "stdout",
     "output_type": "stream",
     "text": [
      "tensor(4.7380e-06)\n",
      "tensor(4.9067e-07)\n",
      "tensor(0.0001)\n",
      "tensor(5.5961e-07)\n",
      "tensor(9.1092e-06)\n",
      "tensor(1.9379e-07)\n",
      "tensor(1.4380e-06)\n",
      "tensor(1.6764e-08)\n"
     ]
    }
   ],
   "source": [
    "for i in range(len(grads_1)):\n",
    "    g1, g3 = grads_1[i], grads_3[i]\n",
    "    print(torch.sum(torch.abs(g1 - g3)))"
   ]
  },
  {
   "cell_type": "code",
   "execution_count": 214,
   "metadata": {},
   "outputs": [
    {
     "data": {
      "text/plain": [
       "False"
      ]
     },
     "execution_count": 214,
     "metadata": {},
     "output_type": "execute_result"
    }
   ],
   "source": [
    "model[0].weight.requires_grad"
   ]
  },
  {
   "cell_type": "code",
   "execution_count": 174,
   "metadata": {},
   "outputs": [
    {
     "data": {
      "text/plain": [
       "torch.Size([128, 3, 32, 32])"
      ]
     },
     "execution_count": 174,
     "metadata": {},
     "output_type": "execute_result"
    }
   ],
   "source": [
    "x_prime = F.conv_transpose2d(y, weight=W, stride=4, padding=0) #, output_padding=0)\n",
    "x_prime.shape"
   ]
  },
  {
   "cell_type": "code",
   "execution_count": null,
   "metadata": {},
   "outputs": [],
   "source": []
  }
 ],
 "metadata": {
  "kernelspec": {
   "display_name": "Python 3",
   "language": "python",
   "name": "python3"
  },
  "language_info": {
   "codemirror_mode": {
    "name": "ipython",
    "version": 3
   },
   "file_extension": ".py",
   "mimetype": "text/x-python",
   "name": "python",
   "nbconvert_exporter": "python",
   "pygments_lexer": "ipython3",
   "version": "3.8.5"
  }
 },
 "nbformat": 4,
 "nbformat_minor": 4
}
