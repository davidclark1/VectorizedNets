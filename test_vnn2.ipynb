{
 "cells": [
  {
   "cell_type": "code",
   "execution_count": 1,
   "metadata": {},
   "outputs": [],
   "source": [
    "import numpy as np\n",
    "import torch\n",
    "import torch.nn as nn\n",
    "import torch.nn.functional as F\n",
    "import matplotlib.pyplot as plt\n",
    "from imp import reload\n",
    "import torch.nn as nn\n",
    "\n",
    "import vnn2\n",
    "reload(vnn2)\n",
    "import local2d"
   ]
  },
  {
   "cell_type": "code",
   "execution_count": 2,
   "metadata": {},
   "outputs": [],
   "source": [
    "in_channels = 4\n",
    "out_channels = 4\n",
    "h_in = 24\n",
    "w_in = 24\n",
    "kernel_size = 5\n",
    "\n",
    "lc = local2d.Local2d(in_channels, out_channels, kernel_size, h_in, w_in, stride=1, padding=3, bias=True)"
   ]
  },
  {
   "cell_type": "code",
   "execution_count": 105,
   "metadata": {},
   "outputs": [],
   "source": [
    "x = torch.randn(128, in_channels, h_in, w_in)\n",
    "out = lc(x)"
   ]
  },
  {
   "cell_type": "code",
   "execution_count": 106,
   "metadata": {},
   "outputs": [],
   "source": [
    "loss = out.sum()"
   ]
  },
  {
   "cell_type": "code",
   "execution_count": 107,
   "metadata": {},
   "outputs": [],
   "source": [
    "loss.backward()"
   ]
  },
  {
   "cell_type": "code",
   "execution_count": 108,
   "metadata": {},
   "outputs": [],
   "source": [
    "g1 = lc.weight.grad.clone()"
   ]
  },
  {
   "cell_type": "code",
   "execution_count": 111,
   "metadata": {},
   "outputs": [],
   "source": [
    "W = lc.weight.detach().clone()\n",
    "W.grad = None\n",
    "W.requires_grad = True\n",
    "out = local2d.lc_forward(x.clone(), W, stride=1, padding=3)"
   ]
  },
  {
   "cell_type": "code",
   "execution_count": 112,
   "metadata": {},
   "outputs": [],
   "source": [
    "loss = out.sum()"
   ]
  },
  {
   "cell_type": "code",
   "execution_count": 113,
   "metadata": {},
   "outputs": [],
   "source": [
    "loss.backward()"
   ]
  },
  {
   "cell_type": "code",
   "execution_count": 114,
   "metadata": {},
   "outputs": [],
   "source": [
    "g2 = W.grad.clone()"
   ]
  },
  {
   "cell_type": "code",
   "execution_count": 117,
   "metadata": {},
   "outputs": [
    {
     "data": {
      "text/plain": [
       "tensor(1.1444e-05)"
      ]
     },
     "execution_count": 117,
     "metadata": {},
     "output_type": "execute_result"
    }
   ],
   "source": [
    "(g1-g2).abs().max()"
   ]
  },
  {
   "cell_type": "code",
   "execution_count": 13,
   "metadata": {},
   "outputs": [],
   "source": [
    "reload(vnn2)\n",
    "def make_mnist_vec_lc(mono=False):\n",
    "    model = nn.Sequential(\n",
    "        vnn2.VecLocal2d(10, 10, 32, 3, h_in=28, w_in=28, stride=1, padding=1, first_layer=True, mono=mono),\n",
    "        vnn2.ctReLU(10, 32, 28, 28),\n",
    "        vnn2.AvgPool2d(2),\n",
    "        vnn2.VecLocal2d(10, 32, 32, 3, h_in=14, w_in=14, stride=1, padding=1, mono=mono),\n",
    "        vnn2.ctReLU(10, 32, 14, 14),\n",
    "        vnn2.AvgPool2d(2), #7 by 7\n",
    "        vnn2.Flatten(),\n",
    "        vnn2.Linear(10, 1568, 1024, mono=mono),\n",
    "        vnn2.tReLU(10, 1024),\n",
    "        vnn2.Linear(10, 1024, 1, mono=mono))\n",
    "    return model\n",
    "\n",
    "def make_cifar_vec_lc(mono=False):\n",
    "    model = nn.Sequential(\n",
    "        vnn2.VecLocal2d(10, 30, 128, 5, h_in=32, w_in=32, stride=1, padding=2, first_layer=True, mono=mono),\n",
    "        vnn2.ctReLU(10, 128, 32, 32),\n",
    "        vnn2.AvgPool2d(2),\n",
    "        vnn2.VecLocal2d(10, 128, 128, 5, h_in=16, w_in=16, stride=1, padding=2, mono=mono),\n",
    "        vnn2.ctReLU(10, 128, 16, 16),\n",
    "        vnn2.AvgPool2d(2),\n",
    "        vnn2.VecLocal2d(10, 128, 128, 2, h_in=8, w_in=8, stride=2, padding=0, mono=mono),\n",
    "        vnn2.ctReLU(10, 128, 4, 4),\n",
    "        vnn2.Flatten(),\n",
    "        vnn2.Linear(10, 2048, 1024, mono=mono),\n",
    "        vnn2.tReLU(10, 1024),\n",
    "        vnn2.Linear(10, 1024, 1, mono=mono))\n",
    "    return model\n",
    "\n",
    "model = make_mnist_vec_lc(mono=False)\n",
    "\n"
   ]
  },
  {
   "cell_type": "code",
   "execution_count": 14,
   "metadata": {},
   "outputs": [],
   "source": [
    "model = model.to(0)"
   ]
  },
  {
   "cell_type": "code",
   "execution_count": 15,
   "metadata": {},
   "outputs": [],
   "source": [
    "input = torch.randn(64, 10, 10, 28, 28).to(0)\n",
    "labels = torch.randint(0, 10, (64,)).to(0)"
   ]
  },
  {
   "cell_type": "code",
   "execution_count": 16,
   "metadata": {},
   "outputs": [
    {
     "name": "stdout",
     "output_type": "stream",
     "text": [
      "A torch.Size([640, 10, 28, 28])\n",
      "B torch.Size([640, 10, 30, 30])\n",
      "torch.Size([64, 10, 32, 28, 28])\n",
      "torch.Size([64, 10, 32, 28, 28])\n",
      "A torch.Size([640, 32, 14, 14])\n",
      "B torch.Size([640, 32, 16, 16])\n",
      "torch.Size([64, 10, 32, 14, 14])\n",
      "torch.Size([64, 10, 32, 14, 14])\n"
     ]
    }
   ],
   "source": [
    "reload(vnn2)\n",
    "output = model(input)[..., 0]\n",
    "vnn2.set_model_grads(model, output, labels, learning_rule=\"bp\", reduction=\"mean\")\n",
    "g1 = [param.grad for (name, param) in model.named_parameters() if name[-2:] != \".t\"]\n",
    "#22s"
   ]
  },
  {
   "cell_type": "code",
   "execution_count": 17,
   "metadata": {},
   "outputs": [
    {
     "name": "stdout",
     "output_type": "stream",
     "text": [
      "A torch.Size([640, 10, 28, 28])\n",
      "B torch.Size([640, 10, 30, 30])\n",
      "torch.Size([64, 10, 32, 28, 28])\n",
      "torch.Size([64, 10, 32, 28, 28])\n",
      "A torch.Size([640, 32, 14, 14])\n",
      "B torch.Size([640, 32, 16, 16])\n",
      "torch.Size([64, 10, 32, 14, 14])\n",
      "torch.Size([64, 10, 32, 14, 14])\n"
     ]
    }
   ],
   "source": [
    "loss_fn = nn.CrossEntropyLoss(reduction=\"mean\")\n",
    "for (name, param) in model.named_parameters():\n",
    "    if name[-2:] != \".t\":\n",
    "        param.grad = None\n",
    "        param.requires_grad = True\n",
    "output = model(input)[..., 0]\n",
    "loss = loss_fn(output, labels)\n",
    "loss.backward()\n",
    "g2 = [param.grad for (name, param) in model.named_parameters() if name[-2:] != \".t\"]\n",
    "#44 s"
   ]
  },
  {
   "cell_type": "code",
   "execution_count": 18,
   "metadata": {},
   "outputs": [
    {
     "data": {
      "text/plain": [
       "[tensor(6.1118e-10, device='cuda:0'),\n",
       " tensor(1.8917e-10, device='cuda:0'),\n",
       " tensor(4.6566e-09, device='cuda:0'),\n",
       " tensor(9.8953e-10, device='cuda:0'),\n",
       " tensor(1.8626e-08, device='cuda:0'),\n",
       " tensor(1.1642e-09, device='cuda:0'),\n",
       " tensor(4.4703e-08, device='cuda:0'),\n",
       " tensor(7.4506e-09, device='cuda:0')]"
      ]
     },
     "execution_count": 18,
     "metadata": {},
     "output_type": "execute_result"
    }
   ],
   "source": [
    "[(g1[i]-g2[i]).abs().max() for i in range(len(g1))]"
   ]
  },
  {
   "cell_type": "code",
   "execution_count": 19,
   "metadata": {},
   "outputs": [
    {
     "data": {
      "text/plain": [
       "[(0.9999999999998788, 0.0),\n",
       " (0.9999999999998812, 0.0),\n",
       " (0.999999999999877, 0.0),\n",
       " (0.9999999999998916, 0.0),\n",
       " (0.9999999999999359, 0.0),\n",
       " (0.999999999999995, 0.0),\n",
       " (0.9999999999999892, 0.0),\n",
       " (0.9999999999999925, 1.4211981301389257e-56)]"
      ]
     },
     "execution_count": 19,
     "metadata": {},
     "output_type": "execute_result"
    }
   ],
   "source": [
    "from scipy.stats import pearsonr\n",
    "\n",
    "[pearsonr(g1[i].cpu().flatten().numpy(), g2[i].cpu().flatten().numpy()) for i in range(len(g1))]"
   ]
  },
  {
   "cell_type": "code",
   "execution_count": 26,
   "metadata": {},
   "outputs": [
    {
     "data": {
      "image/png": "[encoded data removed]",
      "text/plain": [
       "<Figure size 432x288 with 1 Axes>"
      ]
     },
     "metadata": {
      "needs_background": "light"
     },
     "output_type": "display_data"
    }
   ],
   "source": [
    "plt.hist(diff, bins=100)\n",
    "plt.show()"
   ]
  },
  {
   "cell_type": "code",
   "execution_count": 10,
   "metadata": {},
   "outputs": [],
   "source": [
    "a = g1[5].numpy().flatten()\n",
    "b = g2[5].numpy().flatten()"
   ]
  },
  {
   "cell_type": "code",
   "execution_count": 11,
   "metadata": {},
   "outputs": [
    {
     "data": {
      "text/plain": [
       "(0.9999999999999624, 0.0)"
      ]
     },
     "execution_count": 11,
     "metadata": {},
     "output_type": "execute_result"
    }
   ],
   "source": [
    "from scipy.stats import pearsonr\n",
    "pearsonr(a, b)"
   ]
  },
  {
   "cell_type": "code",
   "execution_count": 36,
   "metadata": {},
   "outputs": [
    {
     "name": "stdout",
     "output_type": "stream",
     "text": [
      "0.weight\n",
      "0.bias\n",
      "1.t\n",
      "3.weight\n",
      "3.bias\n",
      "4.t\n",
      "6.weight\n",
      "6.bias\n",
      "7.t\n",
      "9.weight\n",
      "9.bias\n",
      "10.t\n",
      "11.weight\n",
      "11.bias\n"
     ]
    }
   ],
   "source": [
    "for name, param in model.named_parameters():\n",
    "    print(name)"
   ]
  },
  {
   "cell_type": "code",
   "execution_count": null,
   "metadata": {},
   "outputs": [],
   "source": []
  }
 ],
 "metadata": {
  "kernelspec": {
   "display_name": "Python 3",
   "language": "python",
   "name": "python3"
  },
  "language_info": {
   "codemirror_mode": {
    "name": "ipython",
    "version": 3
   },
   "file_extension": ".py",
   "mimetype": "text/x-python",
   "name": "python",
   "nbconvert_exporter": "python",
   "pygments_lexer": "ipython3",
   "version": "3.8.5"
  }
 },
 "nbformat": 4,
 "nbformat_minor": 4
}
