{
 "cells": [
  {
   "cell_type": "code",
   "execution_count": 1,
   "metadata": {},
   "outputs": [],
   "source": [
    "import numpy as np\n",
    "import torch\n",
    "import torch.nn as nn\n",
    "import torch.nn.functional as F\n",
    "import matplotlib.pyplot as plt\n",
    "from imp import reload\n",
    "import torch.nn as nn\n",
    "\n",
    "import vnn2\n",
    "reload(vnn2)\n",
    "import local2d"
   ]
  },
  {
   "cell_type": "code",
   "execution_count": 104,
   "metadata": {},
   "outputs": [],
   "source": [
    "in_channels = 4\n",
    "out_channels = 4\n",
    "h_in = 24\n",
    "w_in = 24\n",
    "kernel_size = 5\n",
    "\n",
    "lc = local2d.Local2d(in_channels, out_channels, kernel_size, h_in, w_in, stride=1, padding=3, bias=True)"
   ]
  },
  {
   "cell_type": "code",
   "execution_count": 105,
   "metadata": {},
   "outputs": [],
   "source": [
    "x = torch.randn(128, in_channels, h_in, w_in)\n",
    "out = lc(x)"
   ]
  },
  {
   "cell_type": "code",
   "execution_count": 106,
   "metadata": {},
   "outputs": [],
   "source": [
    "loss = out.sum()"
   ]
  },
  {
   "cell_type": "code",
   "execution_count": 107,
   "metadata": {},
   "outputs": [],
   "source": [
    "loss.backward()"
   ]
  },
  {
   "cell_type": "code",
   "execution_count": 108,
   "metadata": {},
   "outputs": [],
   "source": [
    "g1 = lc.weight.grad.clone()"
   ]
  },
  {
   "cell_type": "code",
   "execution_count": 111,
   "metadata": {},
   "outputs": [],
   "source": [
    "W = lc.weight.detach().clone()\n",
    "W.grad = None\n",
    "W.requires_grad = True\n",
    "out = local2d.lc_forward(x.clone(), W, stride=1, padding=3)"
   ]
  },
  {
   "cell_type": "code",
   "execution_count": 112,
   "metadata": {},
   "outputs": [],
   "source": [
    "loss = out.sum()"
   ]
  },
  {
   "cell_type": "code",
   "execution_count": 113,
   "metadata": {},
   "outputs": [],
   "source": [
    "loss.backward()"
   ]
  },
  {
   "cell_type": "code",
   "execution_count": 114,
   "metadata": {},
   "outputs": [],
   "source": [
    "g2 = W.grad.clone()"
   ]
  },
  {
   "cell_type": "code",
   "execution_count": 117,
   "metadata": {},
   "outputs": [
    {
     "data": {
      "text/plain": [
       "tensor(1.1444e-05)"
      ]
     },
     "execution_count": 117,
     "metadata": {},
     "output_type": "execute_result"
    }
   ],
   "source": [
    "(g1-g2).abs().max()"
   ]
  },
  {
   "cell_type": "code",
   "execution_count": 2,
   "metadata": {},
   "outputs": [],
   "source": [
    "reload(vnn2)\n",
    "def make_cifar_vec_lc(mono=False):\n",
    "    model = nn.Sequential(\n",
    "        vnn2.VecLocal2d(10, 30, 128, 5, h_in=32, w_in=32, stride=1, padding=2, first_layer=True, mono=mono),\n",
    "        vnn2.ctReLU(10, 128, 32, 32),\n",
    "        vnn2.AvgPool2d(2),\n",
    "        vnn2.VecLocal2d(10, 128, 128, 5, h_in=16, w_in=16, stride=1, padding=2, mono=mono),\n",
    "        vnn2.ctReLU(10, 128, 16, 16),\n",
    "        vnn2.AvgPool2d(2),\n",
    "        vnn2.VecLocal2d(10, 128, 128, 2, h_in=8, w_in=8, stride=2, padding=0, mono=mono),\n",
    "        vnn2.ctReLU(10, 128, 4, 4),\n",
    "        vnn2.Flatten(),\n",
    "        vnn2.Linear(10, 2048, 1024, mono=mono),\n",
    "        vnn2.tReLU(10, 1024),\n",
    "        vnn2.Linear(10, 1024, 1, mono=mono))\n",
    "    return model\n",
    "\n",
    "model = make_cifar_vec_lc(mono=False)\n",
    "\n"
   ]
  },
  {
   "cell_type": "code",
   "execution_count": 3,
   "metadata": {},
   "outputs": [
    {
     "data": {
      "text/plain": [
       "Sequential(\n",
       "  (0): VecLocal2d()\n",
       "  (1): ctReLU()\n",
       "  (2): AvgPool2d(\n",
       "    (pool): AvgPool2d(kernel_size=2, stride=2, padding=0)\n",
       "  )\n",
       "  (3): VecLocal2d()\n",
       "  (4): ctReLU()\n",
       "  (5): AvgPool2d(\n",
       "    (pool): AvgPool2d(kernel_size=2, stride=2, padding=0)\n",
       "  )\n",
       "  (6): VecLocal2d()\n",
       "  (7): ctReLU()\n",
       "  (8): Flatten()\n",
       "  (9): Linear()\n",
       "  (10): tReLU()\n",
       "  (11): Linear()\n",
       ")"
      ]
     },
     "execution_count": 3,
     "metadata": {},
     "output_type": "execute_result"
    }
   ],
   "source": [
    "model"
   ]
  },
  {
   "cell_type": "code",
   "execution_count": 4,
   "metadata": {},
   "outputs": [],
   "source": [
    "input = torch.randn(1, 10, 30, 32, 32)\n",
    "labels = torch.randint(0, 10, (1,))"
   ]
  },
  {
   "cell_type": "code",
   "execution_count": 5,
   "metadata": {},
   "outputs": [],
   "source": [
    "output = model(input)[..., 0]\n",
    "vnn2.set_model_grads(model, output, labels, learning_rule=\"bp\", reduction=\"mean\")\n",
    "g1 = [param.grad for (name, param) in model.named_parameters() if name[-2:] != \".t\"]\n",
    "#22s"
   ]
  },
  {
   "cell_type": "code",
   "execution_count": null,
   "metadata": {},
   "outputs": [],
   "source": [
    "loss_fn = nn.CrossEntropyLoss(reduction=\"sum\")\n",
    "for (name, param) in model.named_parameters():\n",
    "    if name[-2:] != \".t\":\n",
    "        param.grad = None\n",
    "        param.requires_grad = True\n",
    "output = model(input)[..., 0]\n",
    "loss = loss_fn(output, labels)\n",
    "loss.backward()\n",
    "g2 = [param.grad for (name, param) in model.named_parameters() if name[-2:] != \".t\"]\n",
    "#44 s"
   ]
  },
  {
   "cell_type": "code",
   "execution_count": 111,
   "metadata": {},
   "outputs": [
    {
     "data": {
      "text/plain": [
       "[tensor(0.0727),\n",
       " tensor(0.0740),\n",
       " tensor(0.2588),\n",
       " tensor(0.1233),\n",
       " tensor(0.2839),\n",
       " tensor(0.1607),\n",
       " tensor(0.4946),\n",
       " tensor(0.1279),\n",
       " tensor(2.1909),\n",
       " tensor(0.9316)]"
      ]
     },
     "execution_count": 111,
     "metadata": {},
     "output_type": "execute_result"
    }
   ],
   "source": [
    "[(g1[i]-g2[i]).abs().max() for i in range(len(g1))]"
   ]
  },
  {
   "cell_type": "code",
   "execution_count": 97,
   "metadata": {},
   "outputs": [
    {
     "data": {
      "text/plain": [
       "tensor([[[[-0.0273, -0.0084],\n",
       "          [ 0.0100, -0.0439]],\n",
       "\n",
       "         [[ 0.0052,  0.0143],\n",
       "          [ 0.0171,  0.0605]],\n",
       "\n",
       "         [[ 0.0052,  0.0006],\n",
       "          [-0.0043, -0.0206]],\n",
       "\n",
       "         ...,\n",
       "\n",
       "         [[ 0.0026,  0.0006],\n",
       "          [-0.0454,  0.0176]],\n",
       "\n",
       "         [[-0.0341, -0.0173],\n",
       "          [-0.0081, -0.0350]],\n",
       "\n",
       "         [[ 0.0069,  0.0065],\n",
       "          [-0.0025,  0.0193]]],\n",
       "\n",
       "\n",
       "        [[[-0.0085,  0.0151],\n",
       "          [ 0.0062, -0.0067]],\n",
       "\n",
       "         [[ 0.0296,  0.0135],\n",
       "          [-0.0185, -0.0403]],\n",
       "\n",
       "         [[ 0.0217, -0.0074],\n",
       "          [-0.0008, -0.0353]],\n",
       "\n",
       "         ...,\n",
       "\n",
       "         [[-0.0005, -0.0125],\n",
       "          [-0.0185,  0.0064]],\n",
       "\n",
       "         [[ 0.0251, -0.0073],\n",
       "          [ 0.0349,  0.0368]],\n",
       "\n",
       "         [[ 0.0155, -0.0091],\n",
       "          [-0.0155,  0.0016]]],\n",
       "\n",
       "\n",
       "        [[[-0.0095, -0.0102],\n",
       "          [-0.0061, -0.0171]],\n",
       "\n",
       "         [[ 0.0119,  0.0109],\n",
       "          [ 0.0126,  0.0303]],\n",
       "\n",
       "         [[ 0.0139,  0.0142],\n",
       "          [-0.0044,  0.0174]],\n",
       "\n",
       "         ...,\n",
       "\n",
       "         [[ 0.0010,  0.0085],\n",
       "          [ 0.0086,  0.0176]],\n",
       "\n",
       "         [[-0.0060,  0.0068],\n",
       "          [-0.0087, -0.0040]],\n",
       "\n",
       "         [[-0.0009,  0.0016],\n",
       "          [ 0.0088,  0.0192]]],\n",
       "\n",
       "\n",
       "        ...,\n",
       "\n",
       "\n",
       "        [[[-0.0002, -0.0100],\n",
       "          [ 0.0481,  0.0065]],\n",
       "\n",
       "         [[ 0.0276,  0.0039],\n",
       "          [-0.0538, -0.0117]],\n",
       "\n",
       "         [[ 0.0016, -0.0319],\n",
       "          [ 0.0228, -0.0226]],\n",
       "\n",
       "         ...,\n",
       "\n",
       "         [[ 0.0251,  0.0114],\n",
       "          [ 0.0094, -0.0031]],\n",
       "\n",
       "         [[ 0.0060,  0.0049],\n",
       "          [ 0.0294,  0.0123]],\n",
       "\n",
       "         [[-0.0249,  0.0212],\n",
       "          [-0.0320,  0.0022]]],\n",
       "\n",
       "\n",
       "        [[[-0.0028,  0.0398],\n",
       "          [-0.0102,  0.0007]],\n",
       "\n",
       "         [[-0.0368, -0.0033],\n",
       "          [-0.0312, -0.0647]],\n",
       "\n",
       "         [[ 0.0119, -0.0041],\n",
       "          [-0.0174,  0.0004]],\n",
       "\n",
       "         ...,\n",
       "\n",
       "         [[-0.0090, -0.0237],\n",
       "          [ 0.0239,  0.0074]],\n",
       "\n",
       "         [[-0.0221,  0.0127],\n",
       "          [-0.0272, -0.0212]],\n",
       "\n",
       "         [[ 0.0387,  0.0280],\n",
       "          [-0.0046,  0.0204]]],\n",
       "\n",
       "\n",
       "        [[[-0.0016, -0.0016],\n",
       "          [-0.0018, -0.0077]],\n",
       "\n",
       "         [[ 0.0159,  0.0036],\n",
       "          [-0.0163, -0.0166]],\n",
       "\n",
       "         [[ 0.0018, -0.0050],\n",
       "          [-0.0056, -0.0132]],\n",
       "\n",
       "         ...,\n",
       "\n",
       "         [[-0.0078, -0.0007],\n",
       "          [-0.0063, -0.0192]],\n",
       "\n",
       "         [[ 0.0045,  0.0045],\n",
       "          [-0.0092, -0.0006]],\n",
       "\n",
       "         [[ 0.0074,  0.0106],\n",
       "          [ 0.0128, -0.0169]]]])"
      ]
     },
     "execution_count": 97,
     "metadata": {},
     "output_type": "execute_result"
    }
   ],
   "source": [
    "g2[4]"
   ]
  },
  {
   "cell_type": "code",
   "execution_count": null,
   "metadata": {},
   "outputs": [],
   "source": []
  }
 ],
 "metadata": {
  "kernelspec": {
   "display_name": "Python 3",
   "language": "python",
   "name": "python3"
  },
  "language_info": {
   "codemirror_mode": {
    "name": "ipython",
    "version": 3
   },
   "file_extension": ".py",
   "mimetype": "text/x-python",
   "name": "python",
   "nbconvert_exporter": "python",
   "pygments_lexer": "ipython3",
   "version": "3.8.8"
  }
 },
 "nbformat": 4,
 "nbformat_minor": 4
}
