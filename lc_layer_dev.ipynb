{
 "cells": [
  {
   "cell_type": "code",
   "execution_count": 1,
   "metadata": {},
   "outputs": [],
   "source": [
    "import numpy as np\n",
    "import torch\n",
    "import torch.nn as nn\n",
    "import matplotlib.pyplot as plt\n",
    "import torch.optim as optim\n",
    "import torch.nn.functional as F\n",
    "import vnn\n",
    "import torchvision\n",
    "from imp import reload"
   ]
  },
  {
   "cell_type": "code",
   "execution_count": 2,
   "metadata": {},
   "outputs": [],
   "source": [
    "#do non-vectorized version first\n",
    "\n",
    "class Local2d(nn.Module):\n",
    "    def __init__(self, in_channels, out_channels, kernel_size, h_in, w_in, stride=1, padding=0, bias=True):\n",
    "        super().__init__()\n",
    "        h_out = int(np.floor(((h_in + 2*padding - kernel_size)/stride) + 1))\n",
    "        w_out = int(np.floor(((w_in + 2*padding - kernel_size)/stride) + 1))\n",
    "        self.weight = torch.randn(out_channels, h_out, w_out, in_channels, kernel_size, kernel_size)\n",
    "        if bias:\n",
    "            self.bias = torch.zeros(out_channels, h_out, w_out)\n",
    "        "
   ]
  },
  {
   "cell_type": "code",
   "execution_count": null,
   "metadata": {},
   "outputs": [],
   "source": []
  }
 ],
 "metadata": {
  "kernelspec": {
   "display_name": "Python 3",
   "language": "python",
   "name": "python3"
  },
  "language_info": {
   "codemirror_mode": {
    "name": "ipython",
    "version": 3
   },
   "file_extension": ".py",
   "mimetype": "text/x-python",
   "name": "python",
   "nbconvert_exporter": "python",
   "pygments_lexer": "ipython3",
   "version": "3.8.5"
  }
 },
 "nbformat": 4,
 "nbformat_minor": 4
}
