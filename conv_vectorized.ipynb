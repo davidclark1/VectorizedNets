{
 "cells": [
  {
   "cell_type": "code",
   "execution_count": 9,
   "id": "experimental-calvin",
   "metadata": {},
   "outputs": [
    {
     "data": {
      "text/plain": [
       "<module 'nice_layers' from '/Users/davidclark/Projects/VectorizedNets/nice_layers.py'>"
      ]
     },
     "execution_count": 9,
     "metadata": {},
     "output_type": "execute_result"
    }
   ],
   "source": [
    "import numpy as np\n",
    "import torch\n",
    "import torch.nn as nn\n",
    "import matplotlib.pyplot as plt\n",
    "import torch.optim as optim\n",
    "import torch.nn.functional as F\n",
    "from imp import reload\n",
    "import nice_layers as vnn\n",
    "reload(nice_layers)"
   ]
  },
  {
   "cell_type": "code",
   "execution_count": 5,
   "id": "indian-disorder",
   "metadata": {},
   "outputs": [],
   "source": [
    "model = nn.Sequential(V.VecLinear(10, 150, 200),\n",
    "                      V.VecLinear(10, 200, 50))"
   ]
  },
  {
   "cell_type": "code",
   "execution_count": 7,
   "id": "attended-newton",
   "metadata": {},
   "outputs": [
    {
     "data": {
      "text/plain": [
       "torch.Size([256, 10, 50])"
      ]
     },
     "execution_count": 7,
     "metadata": {},
     "output_type": "execute_result"
    }
   ],
   "source": [
    "input = torch.randn(256, 10, 150)\n",
    "output = model(input)\n",
    "output.shape"
   ]
  },
  {
   "cell_type": "code",
   "execution_count": 8,
   "id": "preliminary-latex",
   "metadata": {},
   "outputs": [
    {
     "data": {
      "text/plain": [
       "Sequential(\n",
       "  (0): VecLinear()\n",
       "  (1): VecLinear()\n",
       ")"
      ]
     },
     "execution_count": 8,
     "metadata": {},
     "output_type": "execute_result"
    }
   ],
   "source": [
    "model"
   ]
  },
  {
   "cell_type": "code",
   "execution_count": 191,
   "id": "central-bennett",
   "metadata": {},
   "outputs": [],
   "source": [
    "reload(vnn)\n",
    "\n",
    "model = nn.Sequential(vnn.Conv2d(10, 30, 6, 5),\n",
    "                      vnn.tReLU(),\n",
    "                      vnn.AvgPool2d(2),\n",
    "                      vnn.Conv2d(10, 6, 16, 5),\n",
    "                      vnn.tReLU(),\n",
    "                      vnn.AvgPool2d(2),\n",
    "                      vnn.Conv2d(10, 16, 120, 5),\n",
    "                      vnn.tReLU(),\n",
    "                      vnn.Flatten(),\n",
    "                      vnn.Linear(10, 120, 84),\n",
    "                      vnn.tReLU(),\n",
    "                      vnn.Dropout(),\n",
    "                      vnn.Linear(10, 84, 1))"
   ]
  },
  {
   "cell_type": "code",
   "execution_count": 192,
   "id": "extra-upset",
   "metadata": {},
   "outputs": [],
   "source": [
    "input = torch.randn(1, 10, 30, 32, 32)\n"
   ]
  },
  {
   "cell_type": "code",
   "execution_count": 193,
   "id": "regular-assist",
   "metadata": {},
   "outputs": [
    {
     "name": "stdout",
     "output_type": "stream",
     "text": [
      "Instantiated t with shape (10, 6, 28, 28)\n",
      "Instantiated t with shape (10, 16, 10, 10)\n",
      "Instantiated t with shape (10, 120, 1, 1)\n",
      "Instantiated t with shape (10, 84)\n"
     ]
    },
    {
     "data": {
      "text/plain": [
       "torch.Size([1, 10, 1])"
      ]
     },
     "execution_count": 193,
     "metadata": {},
     "output_type": "execute_result"
    }
   ],
   "source": [
    "output = model(input)\n",
    "output.shape"
   ]
  },
  {
   "cell_type": "code",
   "execution_count": 187,
   "id": "individual-forest",
   "metadata": {},
   "outputs": [],
   "source": [
    "for module in model: module.post_step_callback()\n"
   ]
  },
  {
   "cell_type": "code",
   "execution_count": 120,
   "id": "ruled-discretion",
   "metadata": {},
   "outputs": [
    {
     "data": {
      "text/plain": [
       "tensor([[2., 0., 0.],\n",
       "        [2., 2., 2.],\n",
       "        [0., 0., 0.],\n",
       "        [0., 0., 0.],\n",
       "        [2., 0., 2.]])"
      ]
     },
     "execution_count": 120,
     "metadata": {},
     "output_type": "execute_result"
    }
   ],
   "source": [
    "do = nn.Dropout(p=0.5)\n",
    "x = torch.ones(5, 3)\n",
    "do(x)"
   ]
  },
  {
   "cell_type": "code",
   "execution_count": 166,
   "id": "fresh-niagara",
   "metadata": {},
   "outputs": [],
   "source": [
    "class Dropout(nn.Module):\n",
    "    def __init__(self, p=0.5):\n",
    "        super().__init__()\n",
    "        self.p = p\n",
    "    def forward(self, input):\n",
    "        if self.training:\n",
    "            mask_shape = (input.shape[0],) + input.shape[2:]\n",
    "            mask = (torch.rand(mask_shape, device=input.device) > self.p).float()\n",
    "            output = input * mask[:, None] * (1. / (1. - self.p))\n",
    "            return output\n",
    "        else:\n",
    "            return input"
   ]
  },
  {
   "cell_type": "code",
   "execution_count": 175,
   "id": "consecutive-wrestling",
   "metadata": {},
   "outputs": [
    {
     "data": {
      "text/plain": [
       "tensor([[[ 0., 10.,  0.,  0.,  0.],\n",
       "         [ 0., 10.,  0.,  0.,  0.],\n",
       "         [ 0., 10.,  0.,  0.,  0.],\n",
       "         [ 0., 10.,  0.,  0.,  0.],\n",
       "         [ 0., 10.,  0.,  0.,  0.],\n",
       "         [ 0., 10.,  0.,  0.,  0.],\n",
       "         [ 0., 10.,  0.,  0.,  0.],\n",
       "         [ 0., 10.,  0.,  0.,  0.],\n",
       "         [ 0., 10.,  0.,  0.,  0.],\n",
       "         [ 0., 10.,  0.,  0.,  0.]],\n",
       "\n",
       "        [[ 0.,  0.,  0.,  0., 10.],\n",
       "         [ 0.,  0.,  0.,  0., 10.],\n",
       "         [ 0.,  0.,  0.,  0., 10.],\n",
       "         [ 0.,  0.,  0.,  0., 10.],\n",
       "         [ 0.,  0.,  0.,  0., 10.],\n",
       "         [ 0.,  0.,  0.,  0., 10.],\n",
       "         [ 0.,  0.,  0.,  0., 10.],\n",
       "         [ 0.,  0.,  0.,  0., 10.],\n",
       "         [ 0.,  0.,  0.,  0., 10.],\n",
       "         [ 0.,  0.,  0.,  0., 10.]],\n",
       "\n",
       "        [[ 0.,  0.,  0.,  0.,  0.],\n",
       "         [ 0.,  0.,  0.,  0.,  0.],\n",
       "         [ 0.,  0.,  0.,  0.,  0.],\n",
       "         [ 0.,  0.,  0.,  0.,  0.],\n",
       "         [ 0.,  0.,  0.,  0.,  0.],\n",
       "         [ 0.,  0.,  0.,  0.,  0.],\n",
       "         [ 0.,  0.,  0.,  0.,  0.],\n",
       "         [ 0.,  0.,  0.,  0.,  0.],\n",
       "         [ 0.,  0.,  0.,  0.,  0.],\n",
       "         [ 0.,  0.,  0.,  0.,  0.]]])"
      ]
     },
     "execution_count": 175,
     "metadata": {},
     "output_type": "execute_result"
    }
   ],
   "source": [
    "do = Dropout(p=0.9)\n",
    "x = torch.ones(3, 10, 5)\n",
    "do.train()\n",
    "do(x)"
   ]
  },
  {
   "cell_type": "code",
   "execution_count": 168,
   "id": "mexican-savings",
   "metadata": {},
   "outputs": [
    {
     "data": {
      "text/plain": [
       "tensor([[[0., 2., 2., 2., 2.],\n",
       "         [0., 2., 2., 2., 2.],\n",
       "         [0., 2., 2., 2., 2.],\n",
       "         [0., 2., 2., 2., 2.],\n",
       "         [0., 2., 2., 2., 2.],\n",
       "         [0., 2., 2., 2., 2.],\n",
       "         [0., 2., 2., 2., 2.],\n",
       "         [0., 2., 2., 2., 2.],\n",
       "         [0., 2., 2., 2., 2.],\n",
       "         [0., 2., 2., 2., 2.]],\n",
       "\n",
       "        [[0., 2., 0., 0., 0.],\n",
       "         [0., 2., 0., 0., 0.],\n",
       "         [0., 2., 0., 0., 0.],\n",
       "         [0., 2., 0., 0., 0.],\n",
       "         [0., 2., 0., 0., 0.],\n",
       "         [0., 2., 0., 0., 0.],\n",
       "         [0., 2., 0., 0., 0.],\n",
       "         [0., 2., 0., 0., 0.],\n",
       "         [0., 2., 0., 0., 0.],\n",
       "         [0., 2., 0., 0., 0.]],\n",
       "\n",
       "        [[0., 0., 2., 2., 2.],\n",
       "         [0., 0., 2., 2., 2.],\n",
       "         [0., 0., 2., 2., 2.],\n",
       "         [0., 0., 2., 2., 2.],\n",
       "         [0., 0., 2., 2., 2.],\n",
       "         [0., 0., 2., 2., 2.],\n",
       "         [0., 0., 2., 2., 2.],\n",
       "         [0., 0., 2., 2., 2.],\n",
       "         [0., 0., 2., 2., 2.],\n",
       "         [0., 0., 2., 2., 2.]]])"
      ]
     },
     "execution_count": 168,
     "metadata": {},
     "output_type": "execute_result"
    }
   ],
   "source": [
    "do."
   ]
  },
  {
   "cell_type": "code",
   "execution_count": null,
   "id": "encouraging-christianity",
   "metadata": {},
   "outputs": [],
   "source": []
  }
 ],
 "metadata": {
  "kernelspec": {
   "display_name": "Python 3",
   "language": "python",
   "name": "python3"
  },
  "language_info": {
   "codemirror_mode": {
    "name": "ipython",
    "version": 3
   },
   "file_extension": ".py",
   "mimetype": "text/x-python",
   "name": "python",
   "nbconvert_exporter": "python",
   "pygments_lexer": "ipython3",
   "version": "3.8.8"
  }
 },
 "nbformat": 4,
 "nbformat_minor": 5
}
