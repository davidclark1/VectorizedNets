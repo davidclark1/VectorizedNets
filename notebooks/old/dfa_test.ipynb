{
 "cells": [
  {
   "cell_type": "code",
   "execution_count": 435,
   "id": "civilian-macedonia",
   "metadata": {},
   "outputs": [
    {
     "data": {
      "text/plain": [
       "<module 'mono_dfa' from '/Users/davidclark/Projects/VectorizedNets/mono_dfa.py'>"
      ]
     },
     "execution_count": 435,
     "metadata": {},
     "output_type": "execute_result"
    }
   ],
   "source": [
    "import numpy as np\n",
    "import torch\n",
    "import torch.nn as nn\n",
    "import torch.nn.functional as F\n",
    "import matplotlib.pyplot as plt\n",
    "from imp import reload\n",
    "import torch.nn as nn\n",
    "import mono_dfa\n",
    "import torchvision\n",
    "reload(mono_dfa)"
   ]
  },
  {
   "cell_type": "code",
   "execution_count": 436,
   "id": "protective-operator",
   "metadata": {},
   "outputs": [],
   "source": [
    "def load_mnist():\n",
    "    transform = torchvision.transforms.Compose(\n",
    "        [torchvision.transforms.ToTensor(),\n",
    "        torchvision.transforms.Normalize((0.5,), (0.5,))])\n",
    "    train_set = torchvision.datasets.MNIST(\"./data\", train=True, download=True, transform=transform)\n",
    "    test_set = torchvision.datasets.MNIST(\"./data\", train=False, download=True, transform=transform)\n",
    "    train_loader = torch.utils.data.DataLoader(train_set, batch_size=200, shuffle=True)\n",
    "    test_loader = torch.utils.data.DataLoader(test_set, batch_size=200, shuffle=False)\n",
    "    return train_loader, test_loader\n",
    "\n",
    "train_loader, test_loader = load_mnist()"
   ]
  },
  {
   "cell_type": "code",
   "execution_count": 474,
   "id": "elementary-bishop",
   "metadata": {},
   "outputs": [
    {
     "data": {
      "text/plain": [
       "DFAModelWrapper(\n",
       "  (sequential): Sequential(\n",
       "    (0): Conv2d(1, 32, kernel_size=(5, 5), stride=(1, 1), padding=(2, 2))\n",
       "    (1): ReLU()\n",
       "    (2): DFALayer()\n",
       "    (3): AvgPool2d(kernel_size=2, stride=2, padding=0)\n",
       "    (4): Conv2d(32, 32, kernel_size=(5, 5), stride=(1, 1), padding=(2, 2))\n",
       "    (5): ReLU()\n",
       "    (6): DFALayer()\n",
       "    (7): AvgPool2d(kernel_size=2, stride=2, padding=0)\n",
       "    (8): Flatten(start_dim=1, end_dim=-1)\n",
       "    (9): Linear(in_features=1568, out_features=10, bias=True)\n",
       "    (10): DFA()\n",
       "  )\n",
       ")"
      ]
     },
     "execution_count": 474,
     "metadata": {},
     "output_type": "execute_result"
    }
   ],
   "source": [
    "class DFAWrapper(nn.Module):\n",
    "    def __init__(self, *layers):\n",
    "        super().__init__()\n",
    "        self.sequential = nn.Sequential(*layers)\n",
    "        \n",
    "    def forward(self, input, learning_rule=\"bp\"):\n",
    "        x = input\n",
    "        if learning_rule == \"bp\":\n",
    "            for layer in self.sequential:\n",
    "                if type(layer).__name__ not in ('DFA', 'DFALayer'):\n",
    "                    x = layer(x)\n",
    "        elif learning_rule == \"df\":\n",
    "            x = self.sequential(x)\n",
    "        return x\n",
    "    \n",
    "def make_dfas(n, mono=False):\n",
    "    dfas = [mono_dfa.DFALayer() for _ in range(n)]\n",
    "    dfa = mono_dfa.DFA(dfas, normalization=False, mono=mono)\n",
    "    return dfas + [dfa]\n",
    "\n",
    "\n",
    "dfa1, dfa2, dfa = make_dfas(2, mono=False)\n",
    "model = DFAWrapper(\n",
    "    nn.Conv2d(1, 32, 5, padding=2),\n",
    "    nn.ReLU(),\n",
    "    dfa1,\n",
    "    nn.AvgPool2d(2),\n",
    "    nn.Conv2d(32, 32, 5, padding=2),\n",
    "    nn.ReLU(),\n",
    "    dfa2,\n",
    "    nn.AvgPool2d(2),\n",
    "    nn.Flatten(),\n",
    "    nn.Linear(1568, 10),\n",
    "    dfa\n",
    ")\n",
    "\n",
    "model"
   ]
  },
  {
   "cell_type": "code",
   "execution_count": 475,
   "id": "revised-novelty",
   "metadata": {},
   "outputs": [],
   "source": [
    "model.sequential[-1].feedback_matrix"
   ]
  },
  {
   "cell_type": "code",
   "execution_count": 476,
   "id": "genuine-saying",
   "metadata": {},
   "outputs": [],
   "source": [
    "model.sequential[-1].feedback_matrix"
   ]
  },
  {
   "cell_type": "code",
   "execution_count": 485,
   "id": "hollow-gabriel",
   "metadata": {
    "scrolled": true
   },
   "outputs": [
    {
     "name": "stdout",
     "output_type": "stream",
     "text": [
      "0\n",
      "1\n",
      "2\n",
      "3\n",
      "4\n",
      "5\n",
      "6\n",
      "7\n",
      "8\n",
      "9\n",
      "10\n",
      "11\n",
      "12\n",
      "13\n",
      "14\n",
      "15\n",
      "16\n",
      "17\n",
      "18\n",
      "19\n",
      "20\n",
      "21\n",
      "22\n",
      "23\n",
      "24\n",
      "25\n",
      "26\n",
      "27\n",
      "28\n",
      "29\n",
      "30\n",
      "31\n",
      "32\n",
      "33\n",
      "34\n",
      "35\n",
      "36\n",
      "37\n",
      "38\n",
      "39\n",
      "40\n",
      "41\n",
      "42\n",
      "43\n",
      "44\n",
      "45\n",
      "46\n",
      "47\n",
      "48\n",
      "49\n",
      "50\n",
      "51\n",
      "52\n",
      "53\n",
      "54\n",
      "55\n",
      "56\n",
      "57\n",
      "58\n",
      "59\n",
      "60\n",
      "61\n",
      "62\n",
      "63\n",
      "64\n",
      "65\n",
      "66\n",
      "67\n",
      "68\n",
      "69\n",
      "70\n",
      "71\n",
      "72\n",
      "73\n",
      "74\n",
      "75\n",
      "76\n",
      "77\n",
      "78\n",
      "79\n",
      "80\n",
      "81\n",
      "82\n",
      "83\n",
      "84\n",
      "85\n",
      "86\n",
      "87\n",
      "88\n",
      "89\n",
      "90\n",
      "91\n",
      "92\n",
      "93\n",
      "94\n",
      "95\n",
      "96\n",
      "97\n",
      "98\n",
      "99\n",
      "100\n",
      "101\n",
      "102\n",
      "103\n",
      "104\n",
      "105\n",
      "106\n",
      "107\n",
      "108\n",
      "109\n",
      "110\n",
      "111\n",
      "112\n",
      "113\n",
      "114\n",
      "115\n",
      "116\n",
      "117\n",
      "118\n",
      "119\n",
      "120\n",
      "121\n",
      "122\n",
      "123\n",
      "124\n",
      "125\n",
      "126\n",
      "127\n",
      "128\n",
      "129\n",
      "130\n",
      "131\n",
      "132\n",
      "133\n",
      "134\n",
      "135\n",
      "136\n",
      "137\n",
      "138\n",
      "139\n",
      "140\n",
      "141\n",
      "142\n",
      "143\n",
      "144\n",
      "145\n",
      "146\n",
      "147\n",
      "148\n",
      "149\n",
      "150\n",
      "151\n",
      "152\n",
      "153\n",
      "154\n",
      "155\n",
      "156\n",
      "157\n",
      "158\n",
      "159\n",
      "160\n",
      "161\n",
      "162\n",
      "163\n",
      "164\n",
      "165\n",
      "166\n",
      "167\n",
      "168\n",
      "169\n",
      "170\n",
      "171\n",
      "172\n",
      "173\n",
      "174\n",
      "175\n",
      "176\n",
      "177\n",
      "178\n",
      "179\n",
      "180\n",
      "181\n",
      "182\n",
      "183\n",
      "184\n",
      "185\n",
      "186\n",
      "187\n",
      "188\n",
      "189\n",
      "190\n",
      "191\n",
      "192\n",
      "193\n",
      "194\n",
      "195\n",
      "196\n",
      "197\n",
      "198\n",
      "199\n",
      "200\n",
      "201\n",
      "202\n",
      "203\n",
      "204\n",
      "205\n",
      "206\n",
      "207\n",
      "208\n",
      "209\n",
      "210\n",
      "211\n",
      "212\n",
      "213\n",
      "214\n",
      "215\n",
      "216\n",
      "217\n",
      "218\n",
      "219\n",
      "220\n",
      "221\n",
      "222\n",
      "223\n",
      "224\n",
      "225\n",
      "226\n",
      "227\n",
      "228\n",
      "229\n",
      "230\n",
      "231\n",
      "232\n",
      "233\n",
      "234\n",
      "235\n",
      "236\n",
      "237\n",
      "238\n",
      "239\n",
      "240\n",
      "241\n",
      "242\n",
      "243\n",
      "244\n",
      "245\n",
      "246\n",
      "247\n",
      "248\n",
      "249\n",
      "250\n",
      "251\n",
      "252\n",
      "253\n",
      "254\n",
      "255\n",
      "256\n",
      "257\n",
      "258\n",
      "259\n",
      "260\n",
      "261\n",
      "262\n",
      "263\n",
      "264\n",
      "265\n",
      "266\n",
      "267\n",
      "268\n",
      "269\n",
      "270\n",
      "271\n",
      "272\n",
      "273\n",
      "274\n",
      "275\n",
      "276\n",
      "277\n",
      "278\n",
      "279\n",
      "280\n",
      "281\n",
      "282\n",
      "283\n",
      "284\n",
      "285\n",
      "286\n",
      "287\n",
      "288\n",
      "289\n",
      "290\n",
      "291\n",
      "292\n",
      "293\n",
      "294\n",
      "295\n",
      "296\n",
      "297\n",
      "298\n",
      "299\n"
     ]
    }
   ],
   "source": [
    "#loss_fn = nn.CrossEntropyLoss(reduction=\"mean\")\n",
    "#opt = torch.optim.Adam([p for (name, p) in model.named_parameters() if 'feedback_matrix' not in name], lr=1e-3)\n",
    "for batch_idx, (data, labels) in enumerate(train_loader):\n",
    "    print(batch_idx)\n",
    "    input = data #data.view(data.shape[0], -1)\n",
    "    opt.zero_grad()\n",
    "    output = model(input, \"df\")\n",
    "    loss = loss_fn(output, labels)\n",
    "    loss.backward()\n",
    "    opt.step()\n",
    "\n"
   ]
  },
  {
   "cell_type": "code",
   "execution_count": 486,
   "id": "standard-moore",
   "metadata": {},
   "outputs": [
    {
     "name": "stdout",
     "output_type": "stream",
     "text": [
      "tensor(0.9597)\n"
     ]
    }
   ],
   "source": [
    "num_correct = 0\n",
    "for batch_idx, (data, labels) in enumerate(test_loader):\n",
    "    input = data #data.view(data.shape[0], -1)\n",
    "    with torch.no_grad():\n",
    "        output = model(input)\n",
    "    num_correct += (output.argmax(dim=1) == labels).int().sum()\n",
    "    \n",
    "print(num_correct / 10000)\n",
    "    \n"
   ]
  },
  {
   "cell_type": "code",
   "execution_count": 447,
   "id": "appropriate-fleece",
   "metadata": {},
   "outputs": [
    {
     "data": {
      "text/plain": [
       "['sequential.0.weight',\n",
       " 'sequential.0.bias',\n",
       " 'sequential.3.weight',\n",
       " 'sequential.3.bias',\n",
       " 'sequential.6.weight',\n",
       " 'sequential.6.bias',\n",
       " 'sequential.7.feedback_matrix']"
      ]
     },
     "execution_count": 447,
     "metadata": {},
     "output_type": "execute_result"
    }
   ],
   "source": [
    "[name for (name, param) in model.named_parameters()]\n",
    "\n"
   ]
  },
  {
   "cell_type": "code",
   "execution_count": 496,
   "id": "according-qatar",
   "metadata": {},
   "outputs": [],
   "source": [
    "for param in model.parameters(): param.grad = None\n",
    "\n",
    "output = model(input, learning_rule=\"bp\")\n",
    "loss = loss_fn(output, labels)\n",
    "loss.backward()\n",
    "g1 = model.sequential[9].weight.grad.clone().numpy().flatten()\n"
   ]
  },
  {
   "cell_type": "code",
   "execution_count": 497,
   "id": "russian-december",
   "metadata": {},
   "outputs": [],
   "source": [
    "for param in model.parameters(): param.grad = None\n",
    "\n",
    "output = model(input, learning_rule=\"df\")\n",
    "loss = loss_fn(output, labels)\n",
    "loss.backward()\n",
    "g2 = model.sequential[9].weight.grad.clone().numpy().flatten()\n",
    "\n",
    "\n"
   ]
  },
  {
   "cell_type": "code",
   "execution_count": 498,
   "id": "twenty-astronomy",
   "metadata": {},
   "outputs": [
    {
     "data": {
      "text/plain": [
       "<matplotlib.collections.PathCollection at 0x7fc9d370dca0>"
      ]
     },
     "execution_count": 498,
     "metadata": {},
     "output_type": "execute_result"
    },
    {
     "data": {
      "image/png": "[encoded data removed]",
      "text/plain": [
       "<Figure size 432x288 with 1 Axes>"
      ]
     },
     "metadata": {
      "needs_background": "light"
     },
     "output_type": "display_data"
    }
   ],
   "source": [
    "plt.scatter(g1, g2, lw=0, s=1)"
   ]
  },
  {
   "cell_type": "code",
   "execution_count": 494,
   "id": "bottom-engine",
   "metadata": {},
   "outputs": [
    {
     "data": {
      "text/plain": [
       "(-0.25180918542275227, 0.0)"
      ]
     },
     "execution_count": 494,
     "metadata": {},
     "output_type": "execute_result"
    }
   ],
   "source": [
    "from scipy.stats import pearsonr\n",
    "pearsonr(g1, g2)"
   ]
  },
  {
   "cell_type": "code",
   "execution_count": 234,
   "id": "suitable-lloyd",
   "metadata": {},
   "outputs": [
    {
     "data": {
      "text/plain": [
       "tensor(0.)"
      ]
     },
     "execution_count": 234,
     "metadata": {},
     "output_type": "execute_result"
    }
   ],
   "source": [
    "(g2 - g4).abs().sum()"
   ]
  },
  {
   "cell_type": "code",
   "execution_count": 333,
   "id": "limited-baghdad",
   "metadata": {},
   "outputs": [
    {
     "data": {
      "text/plain": [
       "['fc1.weight', 'fc1.bias', 'fc2.weight', 'fc2.bias', 'fc3.weight', 'fc3.bias']"
      ]
     },
     "execution_count": 333,
     "metadata": {},
     "output_type": "execute_result"
    }
   ],
   "source": [
    "[name for (name, param) in model.named_parameters()]"
   ]
  },
  {
   "cell_type": "code",
   "execution_count": null,
   "id": "passive-joshua",
   "metadata": {},
   "outputs": [],
   "source": []
  }
 ],
 "metadata": {
  "kernelspec": {
   "display_name": "Python 3",
   "language": "python",
   "name": "python3"
  },
  "language_info": {
   "codemirror_mode": {
    "name": "ipython",
    "version": 3
   },
   "file_extension": ".py",
   "mimetype": "text/x-python",
   "name": "python",
   "nbconvert_exporter": "python",
   "pygments_lexer": "ipython3",
   "version": "3.8.8"
  }
 },
 "nbformat": 4,
 "nbformat_minor": 5
}
