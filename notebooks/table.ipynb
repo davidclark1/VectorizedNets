{
 "cells": [
  {
   "cell_type": "code",
   "execution_count": 11,
   "metadata": {},
   "outputs": [],
   "source": [
    "import numpy as np\n",
    "import matplotlib.pyplot as plt\n",
    "import os\n",
    "import torch"
   ]
  },
  {
   "cell_type": "code",
   "execution_count": 12,
   "metadata": {},
   "outputs": [
    {
     "data": {
      "text/plain": [
       "5"
      ]
     },
     "execution_count": 12,
     "metadata": {},
     "output_type": "execute_result"
    }
   ],
   "source": [
    "base_dir = \"/media/davidclark/DATA/VectorizedNets/\"\n",
    "run_dirs = os.listdir(base_dir)\n",
    "num_runs = len(run_dirs)\n",
    "\n",
    "#CIFAR/MNIST\n",
    "#FC/CONV/LC\n",
    "#Vec/Nonvec\n",
    "#DF/BP\n",
    "#Mixed/Mono\n",
    "#Train/Test\n",
    "#Runs\n",
    "acc_vals = np.zeros((\n",
    "    2, 3, 2, 2, 2, 2, num_runs\n",
    "))\n",
    "\n",
    "num_runs"
   ]
  },
  {
   "cell_type": "code",
   "execution_count": 13,
   "metadata": {},
   "outputs": [],
   "source": [
    "dsets = ['mnist', 'cifar']\n",
    "archs = ['fc', 'conv', 'lc']\n",
    "styles = ['vec', 'nonvec']\n",
    "algos = ['df', 'bp']\n",
    "signs = ['mono', 'mixed']\n",
    "\n",
    "def build_dir_name(dset_idx, arch_idx, style_idx, algo_idx, sign_idx, run_idx):\n",
    "    name = 'models_{}/{}_{}_{}_{}_{}'.format(run_idx,\n",
    "        dsets[dset_idx], styles[style_idx], archs[arch_idx], algos[algo_idx], signs[sign_idx])\n",
    "    return name\n",
    "    \n",
    "\n",
    "for dset_idx in range(len(dsets)):\n",
    "    for arch_idx in range(len(archs)):\n",
    "        for style_idx in range(len(styles)):\n",
    "            for algo_idx in range(len(algos)):\n",
    "                for sign_idx in range(len(signs)):\n",
    "                    for run_idx in range(num_runs):\n",
    "                        subdir_name = build_dir_name(dset_idx, arch_idx, style_idx, algo_idx, sign_idx, run_idx)\n",
    "                        dir_name = base_dir + subdir_name\n",
    "                        #print(dir_name)\n",
    "                        if not os.path.isdir(dir_name):\n",
    "                            acc_vals[dset_idx, arch_idx, style_idx, algo_idx, sign_idx, :, run_idx] = np.nan\n",
    "                            continue\n",
    "                        epoch_dirs = os.listdir(dir_name)\n",
    "                        epoch_indices = [int(name.split('.')[0].split('_')[1]) for name in epoch_dirs]\n",
    "                        max_epoch = np.max(epoch_indices)\n",
    "                        to_load = dir_name + '/epoch_{}.pt'.format(max_epoch)\n",
    "                        checkpoint = torch.load(to_load, map_location='cpu')\n",
    "                        train_acc = checkpoint['train_accuracy']\n",
    "                        if max_epoch < 190 and train_acc < 0.999999:\n",
    "                            print(dir_name, max_epoch, train_acc)\n",
    "                            acc_vals[dset_idx, arch_idx, style_idx, algo_idx, sign_idx, :, run_idx] = np.nan\n",
    "                            continue\n",
    "                        test_acc = checkpoint['test_accuracy']\n",
    "                        acc_vals[dset_idx, arch_idx, style_idx, algo_idx, sign_idx, :, run_idx] = [train_acc, test_acc]\n",
    "\n"
   ]
  },
  {
   "cell_type": "code",
   "execution_count": 14,
   "metadata": {},
   "outputs": [],
   "source": [
    "err_vals = 100*(1 - acc_vals)\n",
    "err_vals_mean = np.nanmean(err_vals, axis=-1)\n",
    "err_vals_std = np.nanstd(err_vals, axis=-1)\n"
   ]
  },
  {
   "cell_type": "code",
   "execution_count": 25,
   "metadata": {},
   "outputs": [
    {
     "data": {
      "text/plain": [
       "array([[16.744, 12.898, 19.188, 25.07 , 12.326],\n",
       "       [43.52 , 43.86 , 43.96 , 45.71 , 43.31 ]])"
      ]
     },
     "execution_count": 25,
     "metadata": {},
     "output_type": "execute_result"
    }
   ],
   "source": [
    "err_vals[1, 1, 1, 0, 1]"
   ]
  },
  {
   "cell_type": "code",
   "execution_count": 24,
   "metadata": {},
   "outputs": [
    {
     "name": "stdout",
     "output_type": "stream",
     "text": [
      "& DF+ & BP+ & DF & BP \\\\ \\hline\n",
      "FC-Vec & \\hglht{1.87 (0.06)} & 1.93 (0.05) & 2.32 (0.33) & 1.84 (0.07) \\\\\n",
      "FC & 2.2 (0.3) & 1.36 & 2.09 (0.19) & 1.29 \\\\\n",
      "Conv-Vec & \\hglht{2.33 (1.03)} & 1.3 (0.19) & 1.83 (0.83) & 0.8 \\\\\n",
      "Conv & 1.56 (0.67) & 0.71 & 1.64 (0.42) & 0.65 \\\\\n",
      "LC-Vec & \\hglht{1.78} & 1.64 & 1.84 (0.05) & 1.44 \\\\\n",
      "LC & 1.98 (0.32) & 1.21 & 1.48 (0.09) & 1.07 \\\\\n",
      "\\hline\n",
      "\n",
      "& DF+ & BP+ & DF & BP \\\\ \\hline\n",
      "FC-Vec & \\hglht{47.62 (1.25)} & 47.03 (0.72) & 48.86 (2.02) & 45.98 (0.78) \\\\\n",
      "FC & 48.69 (3.28) & 45.42 (0.96) & 49.54 (2.88) & 45.69 (0.73) \\\\\n",
      "Conv-Vec & \\hglht{33.74 (28.83)} & 30.85 (16.29) & 38.43 (20.59) & 30.54 (1.71) \\\\\n",
      "Conv & 54.18 (48.43) & 32.13 (0.23) & 44.07 (17.25) & 28.8 (0.15) \\\\\n",
      "LC-Vec & \\hglht{41.08 (0.83)} & 41.01 (0.34) & 40.11 (0.83) & 38.77 (0.36) \\\\\n",
      "LC & 41.18 (10.62) & 35.51 & 39.41 (2.94) & 32.32 \\\\\n",
      "\\hline\n",
      "\n"
     ]
    }
   ],
   "source": [
    "archs_short = ['FC', \"Conv\", \"LC\"]\n",
    "styles_short = [\"-Vec\", \"\"]\n",
    "\n",
    "for dset_idx in range(len(dsets)):\n",
    "    print(\"& DF+ & BP+ & DF & BP \\\\\\\\ \\\\hline\")\n",
    "    for arch_idx in range(len(archs)):\n",
    "        for style_idx in range(len(styles)):\n",
    "            print(\"{}{} & \".format(archs_short[arch_idx], styles_short[style_idx]), end=\"\")\n",
    "            for sign_idx in range(len(signs)):\n",
    "                for algo_idx in range(len(algos)):    \n",
    "                    train, test = err_vals_mean[dset_idx, arch_idx, style_idx, algo_idx, sign_idx]\n",
    "                    train, test = train.round(2), test.round(2)\n",
    "                    \n",
    "                    train_std, test_std = err_vals_std[dset_idx, arch_idx, style_idx, algo_idx, sign_idx]\n",
    "                    train_std, test_std = train_std.round(2), test_std.round(2)\n",
    "                    \n",
    "                    #disp = '{} $\\pm$ {}'.format(test, test_std)\n",
    "                    disp = '{}'.format(test)\n",
    "                    if train > 0:\n",
    "                        #disp = disp + ' ({} $\\pm$ {})'.format(train, train_std)\n",
    "                        disp = disp + ' ({})'.format(train)\n",
    "                    if style_idx == 0 and sign_idx == 0 and algo_idx == 0:\n",
    "                        disp = '\\hglht{' + disp + '}'\n",
    "                    print(disp, end=\"\")\n",
    "                    if not (algo_idx == 1 and sign_idx == 1):\n",
    "                        print(\" & \", end=\"\")\n",
    "            print(\" \\\\\\\\\", end=\"\")\n",
    "            print(\"\")\n",
    "    print(\"\\\\hline\\n\\n\", end=\"\")\n",
    "                    "
   ]
  },
  {
   "cell_type": "code",
   "execution_count": 40,
   "metadata": {},
   "outputs": [
    {
     "data": {
      "text/plain": [
       "array([0.01])"
      ]
     },
     "execution_count": 40,
     "metadata": {},
     "output_type": "execute_result"
    }
   ],
   "source": [
    "np.array([0.0051]).round(2)"
   ]
  },
  {
   "cell_type": "code",
   "execution_count": 28,
   "metadata": {},
   "outputs": [
    {
     "data": {
      "text/plain": [
       "0.5"
      ]
     },
     "execution_count": 28,
     "metadata": {},
     "output_type": "execute_result"
    }
   ],
   "source": [
    "a.round(2)"
   ]
  },
  {
   "cell_type": "code",
   "execution_count": null,
   "metadata": {},
   "outputs": [],
   "source": []
  }
 ],
 "metadata": {
  "kernelspec": {
   "display_name": "Python 3",
   "language": "python",
   "name": "python3"
  },
  "language_info": {
   "codemirror_mode": {
    "name": "ipython",
    "version": 3
   },
   "file_extension": ".py",
   "mimetype": "text/x-python",
   "name": "python",
   "nbconvert_exporter": "python",
   "pygments_lexer": "ipython3",
   "version": "3.8.5"
  }
 },
 "nbformat": 4,
 "nbformat_minor": 4
}
