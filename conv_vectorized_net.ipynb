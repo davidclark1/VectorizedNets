{
 "cells": [
  {
   "cell_type": "code",
   "execution_count": 2,
   "metadata": {},
   "outputs": [
    {
     "data": {
      "text/html": [
       "<style>.container { width:100% !important; }</style>"
      ],
      "text/plain": [
       "<IPython.core.display.HTML object>"
      ]
     },
     "metadata": {},
     "output_type": "display_data"
    }
   ],
   "source": [
    "import numpy as np\n",
    "import torch\n",
    "import torch.nn as nn\n",
    "import matplotlib.pyplot as plt\n",
    "import torch.optim as optim\n",
    "import torch.nn.functional as F\n",
    "import torchvision\n",
    "\n",
    "np.random.seed(42)\n",
    "PERMUTATIONS = [np.random.permutation(784) for _ in range(10)]\n",
    "\n",
    "from IPython.core.display import display, HTML\n",
    "display(HTML(\"<style>.container { width:100% !important; }</style>\"))"
   ]
  },
  {
   "cell_type": "code",
   "execution_count": null,
   "metadata": {},
   "outputs": [],
   "source": []
  },
  {
   "cell_type": "code",
   "execution_count": null,
   "metadata": {},
   "outputs": [],
   "source": []
  },
  {
   "cell_type": "code",
   "execution_count": null,
   "metadata": {},
   "outputs": [],
   "source": []
  },
  {
   "cell_type": "code",
   "execution_count": null,
   "metadata": {},
   "outputs": [],
   "source": []
  },
  {
   "cell_type": "code",
   "execution_count": 3,
   "metadata": {},
   "outputs": [],
   "source": [
    "def expand_input(input, expanded_input, category_dim):\n",
    "    #input = (batch, channels, width, height)\n",
    "    batch_size, in_channels = input.shape[:2]\n",
    "    #expanded_input = torch.zeros((batch_size, category_dim, in_channels*category_dim) + input.shape[2:])\n",
    "    for i in range(category_dim):\n",
    "        expanded_input[:, i, i*in_channels:(i+1)*in_channels] = input\n",
    "    return expanded_input\n",
    "    "
   ]
  },
  {
   "cell_type": "code",
   "execution_count": 4,
   "metadata": {},
   "outputs": [
    {
     "data": {
      "text/plain": [
       "<module 'layers' from '/home/davidclark/Projects/VectorizedNets/layers.py'>"
      ]
     },
     "execution_count": 4,
     "metadata": {},
     "output_type": "execute_result"
    }
   ],
   "source": [
    "import layers\n",
    "from imp import reload\n",
    "reload(layers)"
   ]
  },
  {
   "cell_type": "code",
   "execution_count": 26,
   "metadata": {},
   "outputs": [],
   "source": [
    "reload(layers)\n",
    "class VectorizedLeNet(nn.Module):\n",
    "    def __init__(self, device=\"cpu\"):\n",
    "        super().__init__()\n",
    "        self.conv_part = nn.Sequential(layers.ConvVectorizedLayer(10, 30, 128, 3, expanded_input=True, nonlin=True, nonneg=False, pool=False, device=device),\n",
    "                                       layers.ConvVectorizedLayer(10, 128, 128, 3, expanded_input=False, nonlin=True, nonneg=False, pool=True, device=device),\n",
    "                                       layers.ConvVectorizedLayer(10, 128, 128, 3, expanded_input=False, nonlin=True, nonneg=False, pool=False, device=device),\n",
    "                                       layers.ConvVectorizedLayer(10, 128, 128, 3, expanded_input=False, nonlin=True, nonneg=False, pool=True, device=device),\n",
    "                                       layers.ConvVectorizedLayer(10, 128, 256, 3, expanded_input=False, nonlin=True, nonneg=False, pool=False, device=device),\n",
    "                                       layers.ConvVectorizedLayer(10, 256, 256, 3, expanded_input=False, nonlin=True, nonneg=False, pool=True, device=device),)\n",
    "        self.fc_part = nn.Sequential(layers.VectorizedLayer(10, 256*4*4, 2048, expanded_input=False, nonlin=True, nonneg=False, device=device),\n",
    "                                     layers.VectorizedLayer(10, 2048, 1024, expanded_input=False, nonlin=True, nonneg=False, device=device),\n",
    "                                     layers.VectorizedLayer(10, 1024, 1, expanded_input=False, nonlin=False, nonneg=False, device=device))\n",
    "        \n",
    "    def post_step_callback(self):\n",
    "        for i in range(len(self.conv_part)):\n",
    "            self.conv_part[i].post_step_callback()\n",
    "        for i in range(len(self.fc_part)):\n",
    "            self.fc_part[i].post_step_callback()\n",
    "        \n",
    "    def forward(self, input):\n",
    "        conv_out = self.conv_part(input)\n",
    "        conv_out = conv_out.view(conv_out.shape[:2] + (256*4*4,))\n",
    "        fc_out = self.fc_part(conv_out)\n",
    "        return fc_out\n",
    "        "
   ]
  },
  {
   "cell_type": "code",
   "execution_count": 29,
   "metadata": {},
   "outputs": [],
   "source": [
    "model = VectorizedLeNet(device=0)"
   ]
  },
  {
   "cell_type": "code",
   "execution_count": 16,
   "metadata": {},
   "outputs": [
    {
     "name": "stdout",
     "output_type": "stream",
     "text": [
      "Files already downloaded and verified\n",
      "Files already downloaded and verified\n"
     ]
    }
   ],
   "source": [
    "transform = torchvision.transforms.Compose([torchvision.transforms.ToTensor(),\n",
    "                                            torchvision.transforms.Normalize((0.5, 0.5, 0.5), (0.5, 0.5, 0.5))])\n",
    "train_set = torchvision.datasets.CIFAR10(\"./data\", train=True, download=True, transform=transform)\n",
    "test_set = torchvision.datasets.CIFAR10(\"./data\", train=False, download=True, transform=transform)\n",
    "\n",
    "train_loader = torch.utils.data.DataLoader(train_set, batch_size=128, shuffle=True)\n",
    "test_loader = torch.utils.data.DataLoader(test_set, batch_size=128, shuffle=False)"
   ]
  },
  {
   "cell_type": "code",
   "execution_count": 17,
   "metadata": {},
   "outputs": [],
   "source": [
    "input = torch.zeros(128, 10, 30, 32, 32, device=0)"
   ]
  },
  {
   "cell_type": "code",
   "execution_count": null,
   "metadata": {},
   "outputs": [
    {
     "name": "stdout",
     "output_type": "stream",
     "text": [
      "0\n"
     ]
    }
   ],
   "source": [
    "loss_fn = nn.CrossEntropyLoss(reduction=\"mean\")\n",
    "optimizer = optim.Adam(model.parameters(), lr=1e-3)\n",
    "\n",
    "for epoch_idx in range(1000):\n",
    "    print(epoch_idx)\n",
    "    epoch_loss = 0.\n",
    "    epoch_correct = 0.\n",
    "    for batch_idx, (data, labels) in enumerate(train_loader):\n",
    "        input *= 0.\n",
    "        expand_input(data.to(0), input[:len(data)], 10) #.to(0)\n",
    "        optimizer.zero_grad()\n",
    "        out = model(input[:len(data)])[..., 0]\n",
    "        loss = loss_fn(out, labels.to(0))\n",
    "        loss.backward()\n",
    "        optimizer.step()\n",
    "        \n",
    "        epoch_loss += loss.item()\n",
    "        epoch_correct += (out.detach().cpu().argmax(dim=1) == labels).float().sum()\n",
    "\n",
    "    print(epoch_correct / 50000.)\n",
    "    print(epoch_loss / (batch_idx + 1))\n"
   ]
  },
  {
   "cell_type": "code",
   "execution_count": 25,
   "metadata": {},
   "outputs": [
    {
     "name": "stdout",
     "output_type": "stream",
     "text": [
      "tensor(0.7026)\n"
     ]
    }
   ],
   "source": [
    "\n",
    "epoch_correct = 0.\n",
    "for batch_idx, (data, labels) in enumerate(test_loader):\n",
    "    input *= 0.\n",
    "    expand_input(data.to(0), input[:len(data)], 10) #.to(0)\n",
    "    out = model(input[:len(data)])[..., 0]\n",
    "    epoch_correct += (out.detach().cpu().argmax(dim=1) == labels).float().sum()\n",
    "\n",
    "print(epoch_correct / 10000.)\n"
   ]
  },
  {
   "cell_type": "code",
   "execution_count": 29,
   "metadata": {},
   "outputs": [],
   "source": [
    "x = torch.randn(5, 5)\n",
    "A = torch.randn(5, 5)\n",
    "B = torch.randn(5, 5)\n",
    "\n",
    "A.requires_grad = True\n",
    "B.requires_grad = False\n",
    "\n",
    "y = A.mm(B).mm(x)\n",
    "l = y.sum()\n",
    "l.backward()"
   ]
  },
  {
   "cell_type": "code",
   "execution_count": 31,
   "metadata": {},
   "outputs": [],
   "source": [
    "B.grad"
   ]
  },
  {
   "cell_type": "code",
   "execution_count": null,
   "metadata": {},
   "outputs": [],
   "source": []
  }
 ],
 "metadata": {
  "kernelspec": {
   "display_name": "Python 3",
   "language": "python",
   "name": "python3"
  },
  "language_info": {
   "codemirror_mode": {
    "name": "ipython",
    "version": 3
   },
   "file_extension": ".py",
   "mimetype": "text/x-python",
   "name": "python",
   "nbconvert_exporter": "python",
   "pygments_lexer": "ipython3",
   "version": "3.8.8"
  },
  "widgets": {
   "application/vnd.jupyter.widget-state+json": {
    "state": {},
    "version_major": 2,
    "version_minor": 0
   }
  }
 },
 "nbformat": 4,
 "nbformat_minor": 4
}
