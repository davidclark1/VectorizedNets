{
 "cells": [
  {
   "cell_type": "code",
   "execution_count": 1,
   "metadata": {},
   "outputs": [
    {
     "data": {
      "text/html": [
       "<style>.container { width:100% !important; }</style>"
      ],
      "text/plain": [
       "<IPython.core.display.HTML object>"
      ]
     },
     "metadata": {},
     "output_type": "display_data"
    }
   ],
   "source": [
    "import numpy as np\n",
    "import torch\n",
    "import torch.nn as nn\n",
    "import matplotlib.pyplot as plt\n",
    "import torch.optim as optim\n",
    "import torch.nn.functional as F\n",
    "\n",
    "np.random.seed(42)\n",
    "PERMUTATIONS = [np.random.permutation(784) for _ in range(10)]\n",
    "\n",
    "from IPython.core.display import display, HTML\n",
    "display(HTML(\"<style>.container { width:100% !important; }</style>\"))"
   ]
  },
  {
   "cell_type": "code",
   "execution_count": 23,
   "metadata": {},
   "outputs": [
    {
     "data": {
      "text/plain": [
       "torch.Size([90, 8, 7, 6])"
      ]
     },
     "execution_count": 23,
     "metadata": {},
     "output_type": "execute_result"
    }
   ],
   "source": [
    "A = torch.randn(10, 9, 8, 7, 6)\n",
    "\n",
    "\n",
    "\n",
    "for i in range(10):\n",
    "    for j in range(9):\n",
    "        A[i, j] = i*9 + j\n",
    "        \n",
    "        \n",
    "B = A.view((A.shape[0]*A.shape[1],) + A.shape[2:])\n",
    "B.shape"
   ]
  },
  {
   "cell_type": "code",
   "execution_count": 25,
   "metadata": {},
   "outputs": [
    {
     "data": {
      "text/plain": [
       "tensor([[[87., 87., 87., 87., 87., 87.],\n",
       "         [87., 87., 87., 87., 87., 87.],\n",
       "         [87., 87., 87., 87., 87., 87.],\n",
       "         [87., 87., 87., 87., 87., 87.],\n",
       "         [87., 87., 87., 87., 87., 87.],\n",
       "         [87., 87., 87., 87., 87., 87.],\n",
       "         [87., 87., 87., 87., 87., 87.]],\n",
       "\n",
       "        [[87., 87., 87., 87., 87., 87.],\n",
       "         [87., 87., 87., 87., 87., 87.],\n",
       "         [87., 87., 87., 87., 87., 87.],\n",
       "         [87., 87., 87., 87., 87., 87.],\n",
       "         [87., 87., 87., 87., 87., 87.],\n",
       "         [87., 87., 87., 87., 87., 87.],\n",
       "         [87., 87., 87., 87., 87., 87.]],\n",
       "\n",
       "        [[87., 87., 87., 87., 87., 87.],\n",
       "         [87., 87., 87., 87., 87., 87.],\n",
       "         [87., 87., 87., 87., 87., 87.],\n",
       "         [87., 87., 87., 87., 87., 87.],\n",
       "         [87., 87., 87., 87., 87., 87.],\n",
       "         [87., 87., 87., 87., 87., 87.],\n",
       "         [87., 87., 87., 87., 87., 87.]],\n",
       "\n",
       "        [[87., 87., 87., 87., 87., 87.],\n",
       "         [87., 87., 87., 87., 87., 87.],\n",
       "         [87., 87., 87., 87., 87., 87.],\n",
       "         [87., 87., 87., 87., 87., 87.],\n",
       "         [87., 87., 87., 87., 87., 87.],\n",
       "         [87., 87., 87., 87., 87., 87.],\n",
       "         [87., 87., 87., 87., 87., 87.]],\n",
       "\n",
       "        [[87., 87., 87., 87., 87., 87.],\n",
       "         [87., 87., 87., 87., 87., 87.],\n",
       "         [87., 87., 87., 87., 87., 87.],\n",
       "         [87., 87., 87., 87., 87., 87.],\n",
       "         [87., 87., 87., 87., 87., 87.],\n",
       "         [87., 87., 87., 87., 87., 87.],\n",
       "         [87., 87., 87., 87., 87., 87.]],\n",
       "\n",
       "        [[87., 87., 87., 87., 87., 87.],\n",
       "         [87., 87., 87., 87., 87., 87.],\n",
       "         [87., 87., 87., 87., 87., 87.],\n",
       "         [87., 87., 87., 87., 87., 87.],\n",
       "         [87., 87., 87., 87., 87., 87.],\n",
       "         [87., 87., 87., 87., 87., 87.],\n",
       "         [87., 87., 87., 87., 87., 87.]],\n",
       "\n",
       "        [[87., 87., 87., 87., 87., 87.],\n",
       "         [87., 87., 87., 87., 87., 87.],\n",
       "         [87., 87., 87., 87., 87., 87.],\n",
       "         [87., 87., 87., 87., 87., 87.],\n",
       "         [87., 87., 87., 87., 87., 87.],\n",
       "         [87., 87., 87., 87., 87., 87.],\n",
       "         [87., 87., 87., 87., 87., 87.]],\n",
       "\n",
       "        [[87., 87., 87., 87., 87., 87.],\n",
       "         [87., 87., 87., 87., 87., 87.],\n",
       "         [87., 87., 87., 87., 87., 87.],\n",
       "         [87., 87., 87., 87., 87., 87.],\n",
       "         [87., 87., 87., 87., 87., 87.],\n",
       "         [87., 87., 87., 87., 87., 87.],\n",
       "         [87., 87., 87., 87., 87., 87.]]])"
      ]
     },
     "execution_count": 25,
     "metadata": {},
     "output_type": "execute_result"
    }
   ],
   "source": [
    "B[87]"
   ]
  },
  {
   "cell_type": "code",
   "execution_count": 50,
   "metadata": {},
   "outputs": [],
   "source": [
    "class ConvVectorizedLayer(nn.Module):\n",
    "    def __init__(self, in_channels, out_channels, kernel_size, category_dim, stride=1, padding=0, dilation=1,\n",
    "                 groups=1, padding_mode='zeros', nonneg=False, nonlin=True, expanded_input=False, pool=True, pool_size=-1, pool_stride=-1):\n",
    "        super(ConvVectorizedLayer, self).__init__()\n",
    "        \n",
    "        self.conv = nn.Conv2d(in_channels, out_channels, kernel_size, stride, padding, dilation, groups, bias=False, padding_mode=padding_mode)\n",
    "        \n",
    "        k = groups / (in_channels * np.prod(kernel_size))\n",
    "        if expanded_input:\n",
    "            k = k * category_dim\n",
    "        with torch.no_grad():\n",
    "            if nonneg: self.conv.weight.uniform_(0, np.sqrt(k))\n",
    "            else: self.conv.weight.uniform_(-np.sqrt(k), np.sqrt(k))\n",
    "        self.bias = nn.Parameter(torch.zeros(category_dim, out_channels))\n",
    "        \n",
    "        if pool:\n",
    "            self.avgpool = nn.AvgPool2d(kernel_size=pool_size, stride=pool_stride)\n",
    "        \n",
    "        \n",
    "        self.pool = pool\n",
    "        self.nonneg = nonneg\n",
    "        self.nonlin = nonlin\n",
    "        \n",
    "    def forward(self, input):\n",
    "        #(batch_dim, category_dim, channels, width, height)\n",
    "        input_reshaped = input.view((input.shape[0]*input.shape[1],) + input.shape[2:])\n",
    "        conv_out = self.conv(input_reshaped)\n",
    "        saved_shape = conv_out.shape\n",
    "        conv_out = conv_out.view((input.shape[0], input.shape[1]) + conv_out.shape[1:]) #?\n",
    "        conv_out = conv_out + self.bias[None, :, :, None, None]\n",
    "        if self.nonlin:\n",
    "            conv_out_sum = conv_out.sum(dim=1).detach()\n",
    "            mask = (conv_out_sum > 0.).float()\n",
    "            conv_out = conv_out * mask[:, None, :, :, :]\n",
    "        if self.pool:\n",
    "            conv_out = conv_out.view(saved_shape)\n",
    "            conv_out = self.avgpool(conv_out)\n",
    "            conv_out = conv_out.view((input.shape[0], input.shape[1]) + conv_out.shape[1:])\n",
    "        return conv_out\n",
    "    \n",
    "    def post_step_callback(self):\n",
    "        if self.nonneg:\n",
    "            with torch.no_grad():\n",
    "                self.conv.weight.clamp_(min=0)\n",
    "                \n",
    "\n"
   ]
  },
  {
   "cell_type": "code",
   "execution_count": 56,
   "metadata": {},
   "outputs": [],
   "source": [
    "conv = ConvVectorizedLayer(in_channels=10, out_channels=3, kernel_size=6,\n",
    "                           category_dim=10, nonneg=True, nonlin=True, pool=True, pool_size=3, pool_stride=2)"
   ]
  },
  {
   "cell_type": "code",
   "execution_count": 64,
   "metadata": {},
   "outputs": [
    {
     "data": {
      "text/plain": [
       "(torch.Size([200, 3, 28, 28]), torch.Size([200, 10, 30, 28, 28]))"
      ]
     },
     "execution_count": 64,
     "metadata": {},
     "output_type": "execute_result"
    }
   ],
   "source": [
    "def expand_input(input, category_dim):\n",
    "    #input = (batch, channels, width, height)\n",
    "    batch_size, in_channels = input.shape[:2]\n",
    "    expanded_input = torch.zeros((batch_size,) + (category_dim,) + (in_channels*category_dim,) + input.shape[2:])\n",
    "    for i in range(category_dim):\n",
    "        expanded_input[:, i, i*in_channels:(i+1)*in_channels]\n",
    "    return expanded_input\n",
    "\n",
    "    "
   ]
  },
  {
   "cell_type": "code",
   "execution_count": 49,
   "metadata": {},
   "outputs": [
    {
     "data": {
      "text/plain": [
       "tensor([[ 0.0911,  0.9251,  0.8003,  0.4003,  0.3749,  0.3951,  0.3706,  0.5327,\n",
       "          0.2019,  0.5012, -0.0698],\n",
       "        [-0.2160,  1.4210,  0.9609,  0.2281,  0.0295,  0.0000,  0.3862,  0.6340,\n",
       "          0.6682,  0.3384, -0.2897],\n",
       "        [-0.4937,  1.2639,  0.9281,  0.0576,  0.0000,  0.0000,  0.3630,  0.2920,\n",
       "          0.2813,  0.3893, -0.1127],\n",
       "        [-0.7265, -0.0214, -0.1159, -0.1476, -0.1476, -0.3713, -0.1671, -0.5562,\n",
       "         -0.8358, -0.6825, -0.9315],\n",
       "        [-0.0844, -0.2680, -0.1064, -0.1476, -0.2641, -0.4892, -0.2719, -0.2046,\n",
       "         -0.7462, -1.0276, -0.8504],\n",
       "        [ 0.2280,  0.0438, -0.1954, -0.0410, -0.2976, -0.1757, -0.0446,  0.0000,\n",
       "         -0.0449, -0.5120, -0.5180],\n",
       "        [ 0.0000,  0.0000, -0.2391,  0.3729,  0.0760,  0.2647,  0.0000,  0.0000,\n",
       "          0.1351, -0.4942, -0.3749],\n",
       "        [ 0.0000,  0.0458,  0.2932,  0.6550,  0.3292,  0.4564,  0.2740,  0.0000,\n",
       "         -0.5876, -1.3710, -0.6554],\n",
       "        [-0.0631,  0.0817,  0.9879,  1.9242,  0.8596,  0.5095,  0.3862, -0.1760,\n",
       "         -0.6416, -1.0595, -0.8077],\n",
       "        [ 0.1495,  0.2270,  1.1010,  1.6226,  0.5277,  0.2244,  0.1376,  0.4041,\n",
       "          0.6195,  0.2595, -0.0621],\n",
       "        [ 0.0952,  0.0942,  0.9835,  1.4516,  0.2419, -0.4691, -0.3675,  0.1899,\n",
       "          1.0797,  0.1811, -0.2765]], grad_fn=<SelectBackward>)"
      ]
     },
     "execution_count": 49,
     "metadata": {},
     "output_type": "execute_result"
    }
   ],
   "source": [
    "out[0, 4, 0]"
   ]
  },
  {
   "cell_type": "code",
   "execution_count": null,
   "metadata": {},
   "outputs": [],
   "source": []
  }
 ],
 "metadata": {
  "kernelspec": {
   "display_name": "Python 3",
   "language": "python",
   "name": "python3"
  },
  "language_info": {
   "codemirror_mode": {
    "name": "ipython",
    "version": 3
   },
   "file_extension": ".py",
   "mimetype": "text/x-python",
   "name": "python",
   "nbconvert_exporter": "python",
   "pygments_lexer": "ipython3",
   "version": "3.8.5"
  }
 },
 "nbformat": 4,
 "nbformat_minor": 4
}
